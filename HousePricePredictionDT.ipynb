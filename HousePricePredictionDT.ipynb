{
  "nbformat": 4,
  "nbformat_minor": 0,
  "metadata": {
    "colab": {
      "provenance": [],
      "authorship_tag": "ABX9TyOahoybNTksWMXGz7u9meUn",
      "include_colab_link": true
    },
    "kernelspec": {
      "name": "python3",
      "display_name": "Python 3"
    },
    "language_info": {
      "name": "python"
    }
  },
  "cells": [
    {
      "cell_type": "markdown",
      "metadata": {
        "id": "view-in-github",
        "colab_type": "text"
      },
      "source": [
        "<a href=\"https://colab.research.google.com/github/Raj-Manoj/HousePricePredictionDT/blob/main/HousePricePredictionDT.ipynb\" target=\"_parent\"><img src=\"https://colab.research.google.com/assets/colab-badge.svg\" alt=\"Open In Colab\"/></a>"
      ]
    },
    {
      "cell_type": "code",
      "execution_count": 148,
      "metadata": {
        "id": "k_030Mcx7mft"
      },
      "outputs": [],
      "source": [
        "import pandas as pd\n",
        "from sklearn.ensemble import RandomForestRegressor\n",
        "from sklearn.tree import DecisionTreeRegressor\n"
      ]
    },
    {
      "cell_type": "code",
      "source": [
        "train=pd.read_csv('train.csv')\n",
        "test=pd.read_csv('test.csv')\n",
        "x_train=train.drop(['Id','SalePrice'],axis=1)\n",
        "y_train=train['SalePrice']\n",
        "x_test=test.drop(['Id'],axis=1)"
      ],
      "metadata": {
        "id": "zqgq3Hu0GnhO"
      },
      "execution_count": 107,
      "outputs": []
    },
    {
      "cell_type": "code",
      "source": [
        "x_train.drop(['Street','Utilities','Condition2','PoolQC','Fence','MiscFeature'],axis=1,inplace=True)\n",
        "x_test.drop(['Street','Utilities','Condition2','PoolQC','Fence','MiscFeature'],axis=1,inplace=True)"
      ],
      "metadata": {
        "id": "sWWyU0v-HHBi"
      },
      "execution_count": 108,
      "outputs": []
    },
    {
      "cell_type": "code",
      "source": [
        "MSZoning_mapping={'RL':0,'RM':1,'FV':2,'RH':3,'C (all)':4}\n",
        "x_train['MSZoning']=x_train['MSZoning'].map(MSZoning_mapping)\n",
        "x_test['MSZoning']=x_test['MSZoning'].map(MSZoning_mapping)"
      ],
      "metadata": {
        "id": "j-rnyuF8K_7w"
      },
      "execution_count": 109,
      "outputs": []
    },
    {
      "cell_type": "code",
      "source": [
        "x_train['Alley'].fillna('Grvl',inplace=True)\n",
        "x_test['Alley'].fillna('Grvl',inplace=True)\n",
        "Alley_mapping={'Grvl':0,'Pave':1}\n",
        "x_train['Alley']=x_train['Alley'].map(Alley_mapping)\n",
        "x_test['Alley']=x_test['Alley'].map(Alley_mapping)"
      ],
      "metadata": {
        "colab": {
          "base_uri": "https://localhost:8080/"
        },
        "id": "bfgFAX5EL8um",
        "outputId": "dd69726c-5527-43ef-899e-82b9aafa95c5"
      },
      "execution_count": 110,
      "outputs": [
        {
          "output_type": "stream",
          "name": "stderr",
          "text": [
            "<ipython-input-110-c6776fe9cb1c>:1: FutureWarning: A value is trying to be set on a copy of a DataFrame or Series through chained assignment using an inplace method.\n",
            "The behavior will change in pandas 3.0. This inplace method will never work because the intermediate object on which we are setting values always behaves as a copy.\n",
            "\n",
            "For example, when doing 'df[col].method(value, inplace=True)', try using 'df.method({col: value}, inplace=True)' or df[col] = df[col].method(value) instead, to perform the operation inplace on the original object.\n",
            "\n",
            "\n",
            "  x_train['Alley'].fillna('Grvl',inplace=True)\n",
            "<ipython-input-110-c6776fe9cb1c>:2: FutureWarning: A value is trying to be set on a copy of a DataFrame or Series through chained assignment using an inplace method.\n",
            "The behavior will change in pandas 3.0. This inplace method will never work because the intermediate object on which we are setting values always behaves as a copy.\n",
            "\n",
            "For example, when doing 'df[col].method(value, inplace=True)', try using 'df.method({col: value}, inplace=True)' or df[col] = df[col].method(value) instead, to perform the operation inplace on the original object.\n",
            "\n",
            "\n",
            "  x_test['Alley'].fillna('Grvl',inplace=True)\n"
          ]
        }
      ]
    },
    {
      "cell_type": "code",
      "source": [
        "LotShape_mapping={'Reg':0,'IR1':1,'IR2':2,'IR3':3}\n",
        "x_train['LotShape']=x_train['LotShape'].map(LotShape_mapping)\n",
        "x_test['LotShape']=x_test['LotShape'].map(LotShape_mapping)"
      ],
      "metadata": {
        "id": "ztPXKp48MeWS"
      },
      "execution_count": 111,
      "outputs": []
    },
    {
      "cell_type": "code",
      "source": [
        "LandContour_mapping={'Lvl':0,'Bnk':1,'HLS':2,'Low':3}\n",
        "x_train['LandContour']=x_train['LandContour'].map(LandContour_mapping)\n",
        "x_test['LandContour']=x_test['LandContour'].map(LandContour_mapping)"
      ],
      "metadata": {
        "id": "lPj-rAmLMn3L"
      },
      "execution_count": 112,
      "outputs": []
    },
    {
      "cell_type": "code",
      "source": [
        "LotConfig_mapping={'Inside':0,'Corner':1,'CulDSac':2,'FR2':3,'FR3':4}\n",
        "x_train['LotConfig']=x_train['LotConfig'].map(LotConfig_mapping)\n",
        "x_test['LotConfig']=x_test['LotConfig'].map(LotConfig_mapping)"
      ],
      "metadata": {
        "id": "Zt-NKX20M1s9"
      },
      "execution_count": 113,
      "outputs": []
    },
    {
      "cell_type": "code",
      "source": [
        "LandSlope_mapping={'Gtl':0,'Mod':1,'Sev':2}\n",
        "x_train['LandSlope']=x_train['LandSlope'].map(LandSlope_mapping)\n",
        "x_test['LandSlope']=x_test['LandSlope'].map(LandSlope_mapping)"
      ],
      "metadata": {
        "id": "6A7nQlx7NDgF"
      },
      "execution_count": 114,
      "outputs": []
    },
    {
      "cell_type": "code",
      "source": [
        "Neighborhood_mapping={'CollgCr':0,'Veenker':1,'Crawfor':2,'NoRidge':3,'Mitchel':4,'Somerst':5,'NWAmes':6,'OldTown':7,'BrDale':8,'NridgHt':9,'NAmes':10,'Sawyer':11,'IDOTRR':12,'MeadowV':13,'Edwards':14,'Timber':15,'Gilbert':16,'StoneBr':17,'ClearCr':18,'NPkVill':19}\n",
        "x_train['Neighborhood']=x_train['Neighborhood'].map(Neighborhood_mapping)\n",
        "x_test['Neighborhood']=x_test['Neighborhood'].map(Neighborhood_mapping)"
      ],
      "metadata": {
        "id": "oXU2s1xsNHac"
      },
      "execution_count": 115,
      "outputs": []
    },
    {
      "cell_type": "code",
      "source": [
        "Condition1_mapping={'Norm':0,'Feedr':1,'Artery':2,'RRAn':3,'PosN':4,'RRAe':5,'PosA':6,'RRNn':7,'RRNe':8}\n",
        "x_train['Condition1']=x_train['Condition1'].map(Condition1_mapping)\n",
        "x_test['Condition1']=x_test['Condition1'].map(Condition1_mapping)"
      ],
      "metadata": {
        "id": "29-iTmAPNQtw"
      },
      "execution_count": 116,
      "outputs": []
    },
    {
      "cell_type": "code",
      "source": [
        "BldgType_mapping={'1Fam':0,'2fmCon':1,'Duplex':2,'TwnhsE':3,'Twnhs':4}\n",
        "x_train['BldgType']=x_train['BldgType'].map(BldgType_mapping)\n",
        "x_test['BldgType']=x_test['BldgType'].map(BldgType_mapping)"
      ],
      "metadata": {
        "id": "-Kg8VLrANX_j"
      },
      "execution_count": 117,
      "outputs": []
    },
    {
      "cell_type": "code",
      "source": [
        "HouseStyle_mapping={'1Story':0,'2Story':1,'1.5Fin':2,'SLvl':3,'SFoyer':4,'1.5Unf':5,'2.5Unf':6,'2.5Fin':7}\n",
        "x_train['HouseStyle']=x_train['HouseStyle'].map(HouseStyle_mapping)\n",
        "x_test['HouseStyle']=x_test['HouseStyle'].map(HouseStyle_mapping)"
      ],
      "metadata": {
        "id": "4dm7RcxZNiK-"
      },
      "execution_count": 118,
      "outputs": []
    },
    {
      "cell_type": "code",
      "source": [
        "RoofStyle_mapping={'Gable':0,'Hip':1,'Gambrel':2,'Flat':3,'Mansard':4,'Shed':5}\n",
        "x_train['RoofStyle']=x_train['RoofStyle'].map(RoofStyle_mapping)\n",
        "x_test['RoofStyle']=x_test['RoofStyle'].map(RoofStyle_mapping)"
      ],
      "metadata": {
        "id": "aX8N6o0FNmsz"
      },
      "execution_count": 119,
      "outputs": []
    },
    {
      "cell_type": "code",
      "source": [
        "RoofMatl_mapping={'CompShg':0,'WdShngl':1,'Metal':2,'WdShake':3,'Membran':4,'Tar&Grv':5,'Roll':6,'ClyTile':7}\n",
        "x_train['RoofMatl']=x_train['RoofMatl'].map(RoofMatl_mapping)\n",
        "x_test['RoofMatl']=x_test['RoofMatl'].map(RoofMatl_mapping)"
      ],
      "metadata": {
        "id": "D52sL8obN0vC"
      },
      "execution_count": 120,
      "outputs": []
    },
    {
      "cell_type": "code",
      "source": [
        "Exterior1st_mapping={'VinylSd':0,'MetalSd':1,'Wd Sdng':2,'HdBoard':3,'BrkFace':4,'WdShing':5,'CemntBd':6,'Plywood':7,'AsbShng':8,'Stucco':9,'BrkComm':10,'AsphShn':11,'Stone':12,'ImStucc':13,'CBlock':14}\n",
        "x_train['Exterior1st']=x_train['Exterior1st'].map(Exterior1st_mapping)\n",
        "x_test['Exterior1st']=x_test['Exterior1st'].map(Exterior1st_mapping)"
      ],
      "metadata": {
        "id": "BVgB8O_eN8pT"
      },
      "execution_count": 121,
      "outputs": []
    },
    {
      "cell_type": "code",
      "source": [
        "Exterior2nd_mapping={'VinylSd':0,'MetalSd':1,'Wd Shng':2,'HdBoard':3,'Plywood':4,'Wd Sdng':5,'CmentBd':6,'BrkFace':7,'Stucco':8,'AsbShng':9,'Brk Cmn':10,'ImStucc':11,'AsphShn':12,'Stone':13,'Other':14}\n",
        "x_train['Exterior2nd']=x_train['Exterior2nd'].map(Exterior2nd_mapping)\n",
        "x_test['Exterior2nd']=x_test['Exterior2nd'].map(Exterior2nd_mapping)"
      ],
      "metadata": {
        "id": "FpeDJPQWOLaQ"
      },
      "execution_count": 122,
      "outputs": []
    },
    {
      "cell_type": "code",
      "source": [
        "MasVnrType_mapping={'BrkFace':0,'None':1,'Stone':2,'BrkCmn':3}\n",
        "x_train['MasVnrType']=x_train['MasVnrType'].map(MasVnrType_mapping)\n",
        "x_test['MasVnrType']=x_test['MasVnrType'].map(MasVnrType_mapping)"
      ],
      "metadata": {
        "id": "NZBRmdb6OVN4"
      },
      "execution_count": 123,
      "outputs": []
    },
    {
      "cell_type": "code",
      "source": [
        "ExterQual_mapping={'Gd':0,'TA':1,'Ex':2,'Fa':3}\n",
        "x_train['ExterQual']=x_train['ExterQual'].map(ExterQual_mapping)\n",
        "x_test['ExterQual']=x_test['ExterQual'].map(ExterQual_mapping)"
      ],
      "metadata": {
        "id": "wBgeXWclOcbW"
      },
      "execution_count": 124,
      "outputs": []
    },
    {
      "cell_type": "code",
      "source": [
        "ExterCond_mapping={'TA':0,'Gd':1,'Fa':2,'Po':3,'Ex':4}\n",
        "x_train['ExterCond']=x_train['ExterCond'].map(ExterCond_mapping)\n",
        "x_test['ExterCond']=x_test['ExterCond'].map(ExterCond_mapping)"
      ],
      "metadata": {
        "id": "6ir2ZTqWOi8j"
      },
      "execution_count": 125,
      "outputs": []
    },
    {
      "cell_type": "code",
      "source": [
        "Foundadion_mapping={'PConc':0,'CBlock':1,'BrKCmn':2,'Slab':3,'Stone':4,'Wood':5}\n",
        "x_train['Foundation']=x_train['Foundation'].map(Foundadion_mapping)\n",
        "x_test['Foundation']=x_test['Foundation'].map(Foundadion_mapping)"
      ],
      "metadata": {
        "id": "kdt9VdZYOneY"
      },
      "execution_count": 126,
      "outputs": []
    },
    {
      "cell_type": "code",
      "source": [
        "x_train['BsmtQual'].fillna('Gd',inplace=True)\n",
        "x_test['BsmtQual'].fillna('Gd',inplace=True)\n",
        "BsmtQual_mapping={'Gd':0,'TA':1,'Ex':2,'Fa':3}\n",
        "x_train['BsmtQual']=x_train['BsmtQual'].map(BsmtQual_mapping)\n",
        "x_test['BsmtQual']=x_test['BsmtQual'].map(BsmtQual_mapping)"
      ],
      "metadata": {
        "colab": {
          "base_uri": "https://localhost:8080/"
        },
        "id": "AKCyiw1NPIOr",
        "outputId": "87ea525d-a4f2-417a-a533-27e43f6e93e7"
      },
      "execution_count": 127,
      "outputs": [
        {
          "output_type": "stream",
          "name": "stderr",
          "text": [
            "<ipython-input-127-f9e9c6fce11d>:1: FutureWarning: A value is trying to be set on a copy of a DataFrame or Series through chained assignment using an inplace method.\n",
            "The behavior will change in pandas 3.0. This inplace method will never work because the intermediate object on which we are setting values always behaves as a copy.\n",
            "\n",
            "For example, when doing 'df[col].method(value, inplace=True)', try using 'df.method({col: value}, inplace=True)' or df[col] = df[col].method(value) instead, to perform the operation inplace on the original object.\n",
            "\n",
            "\n",
            "  x_train['BsmtQual'].fillna('Gd',inplace=True)\n",
            "<ipython-input-127-f9e9c6fce11d>:2: FutureWarning: A value is trying to be set on a copy of a DataFrame or Series through chained assignment using an inplace method.\n",
            "The behavior will change in pandas 3.0. This inplace method will never work because the intermediate object on which we are setting values always behaves as a copy.\n",
            "\n",
            "For example, when doing 'df[col].method(value, inplace=True)', try using 'df.method({col: value}, inplace=True)' or df[col] = df[col].method(value) instead, to perform the operation inplace on the original object.\n",
            "\n",
            "\n",
            "  x_test['BsmtQual'].fillna('Gd',inplace=True)\n"
          ]
        }
      ]
    },
    {
      "cell_type": "code",
      "source": [
        "x_train['BsmtCond'].fillna('TA',inplace=True)\n",
        "x_test['BsmtCond'].fillna('TA',inplace=True)\n",
        "BsmtCond_mapping={'TA':0,'Gd':1,'Fa':2,'Po':3}\n",
        "x_train['BsmtCond']=x_train['BsmtCond'].map(BsmtCond_mapping)\n",
        "x_test['BsmtCond']=x_test['BsmtCond'].map(BsmtCond_mapping)"
      ],
      "metadata": {
        "colab": {
          "base_uri": "https://localhost:8080/"
        },
        "id": "hy_rQJ_fPSra",
        "outputId": "8654e704-2646-46cd-c807-d9bab84a3ab5"
      },
      "execution_count": 128,
      "outputs": [
        {
          "output_type": "stream",
          "name": "stderr",
          "text": [
            "<ipython-input-128-3bb662b0cf1b>:1: FutureWarning: A value is trying to be set on a copy of a DataFrame or Series through chained assignment using an inplace method.\n",
            "The behavior will change in pandas 3.0. This inplace method will never work because the intermediate object on which we are setting values always behaves as a copy.\n",
            "\n",
            "For example, when doing 'df[col].method(value, inplace=True)', try using 'df.method({col: value}, inplace=True)' or df[col] = df[col].method(value) instead, to perform the operation inplace on the original object.\n",
            "\n",
            "\n",
            "  x_train['BsmtCond'].fillna('TA',inplace=True)\n",
            "<ipython-input-128-3bb662b0cf1b>:2: FutureWarning: A value is trying to be set on a copy of a DataFrame or Series through chained assignment using an inplace method.\n",
            "The behavior will change in pandas 3.0. This inplace method will never work because the intermediate object on which we are setting values always behaves as a copy.\n",
            "\n",
            "For example, when doing 'df[col].method(value, inplace=True)', try using 'df.method({col: value}, inplace=True)' or df[col] = df[col].method(value) instead, to perform the operation inplace on the original object.\n",
            "\n",
            "\n",
            "  x_test['BsmtCond'].fillna('TA',inplace=True)\n"
          ]
        }
      ]
    },
    {
      "cell_type": "code",
      "source": [
        "\n",
        "x_train['BsmtExposure'].fillna('No',inplace=True)\n",
        "x_test['BsmtExposure'].fillna('No',inplace=True)\n",
        "BsmtExposure_mapping={'No':0,'Gd':1,'Mn':2,'Av':3}\n",
        "x_train['BsmtExposure']=x_train['BsmtExposure'].map(BsmtExposure_mapping)\n",
        "x_test['BsmtExposure']=x_test['BsmtExposure'].map(BsmtExposure_mapping)"
      ],
      "metadata": {
        "colab": {
          "base_uri": "https://localhost:8080/"
        },
        "id": "0NVBtgi7PWiS",
        "outputId": "89dd81e4-b827-48b1-cba0-0ddae1fcf065"
      },
      "execution_count": 129,
      "outputs": [
        {
          "output_type": "stream",
          "name": "stderr",
          "text": [
            "<ipython-input-129-72f54232447b>:1: FutureWarning: A value is trying to be set on a copy of a DataFrame or Series through chained assignment using an inplace method.\n",
            "The behavior will change in pandas 3.0. This inplace method will never work because the intermediate object on which we are setting values always behaves as a copy.\n",
            "\n",
            "For example, when doing 'df[col].method(value, inplace=True)', try using 'df.method({col: value}, inplace=True)' or df[col] = df[col].method(value) instead, to perform the operation inplace on the original object.\n",
            "\n",
            "\n",
            "  x_train['BsmtExposure'].fillna('No',inplace=True)\n",
            "<ipython-input-129-72f54232447b>:2: FutureWarning: A value is trying to be set on a copy of a DataFrame or Series through chained assignment using an inplace method.\n",
            "The behavior will change in pandas 3.0. This inplace method will never work because the intermediate object on which we are setting values always behaves as a copy.\n",
            "\n",
            "For example, when doing 'df[col].method(value, inplace=True)', try using 'df.method({col: value}, inplace=True)' or df[col] = df[col].method(value) instead, to perform the operation inplace on the original object.\n",
            "\n",
            "\n",
            "  x_test['BsmtExposure'].fillna('No',inplace=True)\n"
          ]
        }
      ]
    },
    {
      "cell_type": "code",
      "source": [
        "x_train['BsmtFinType1'].fillna('GLQ',inplace=True)\n",
        "x_test['BsmtFinType1'].fillna('GLQ',inplace=True)\n",
        "BsmtFinType1_mapping={'GLQ':0,'ALQ':1,'Unf':2,'Rec':3,'BLQ':4,'LwQ':5}\n",
        "x_train['BsmtFinType1']=x_train['BsmtFinType1'].map(BsmtFinType1_mapping)\n",
        "x_test['BsmtFinType1']=x_test['BsmtFinType1'].map(BsmtFinType1_mapping)"
      ],
      "metadata": {
        "colab": {
          "base_uri": "https://localhost:8080/"
        },
        "id": "MiZml4f5P1B6",
        "outputId": "31ab41e8-fb5f-4d10-a2de-b2b3a85d142c"
      },
      "execution_count": 130,
      "outputs": [
        {
          "output_type": "stream",
          "name": "stderr",
          "text": [
            "<ipython-input-130-717c5b3e219d>:1: FutureWarning: A value is trying to be set on a copy of a DataFrame or Series through chained assignment using an inplace method.\n",
            "The behavior will change in pandas 3.0. This inplace method will never work because the intermediate object on which we are setting values always behaves as a copy.\n",
            "\n",
            "For example, when doing 'df[col].method(value, inplace=True)', try using 'df.method({col: value}, inplace=True)' or df[col] = df[col].method(value) instead, to perform the operation inplace on the original object.\n",
            "\n",
            "\n",
            "  x_train['BsmtFinType1'].fillna('GLQ',inplace=True)\n",
            "<ipython-input-130-717c5b3e219d>:2: FutureWarning: A value is trying to be set on a copy of a DataFrame or Series through chained assignment using an inplace method.\n",
            "The behavior will change in pandas 3.0. This inplace method will never work because the intermediate object on which we are setting values always behaves as a copy.\n",
            "\n",
            "For example, when doing 'df[col].method(value, inplace=True)', try using 'df.method({col: value}, inplace=True)' or df[col] = df[col].method(value) instead, to perform the operation inplace on the original object.\n",
            "\n",
            "\n",
            "  x_test['BsmtFinType1'].fillna('GLQ',inplace=True)\n"
          ]
        }
      ]
    },
    {
      "cell_type": "code",
      "source": [
        "x_train['BsmtFinType2'].fillna('Unf',inplace=True)\n",
        "x_test['BsmtFinType2'].fillna('Unf',inplace=True)\n",
        "BsmtFinType2_mapping={'Unf':0,'Rec':1,'LwQ':2,'BLQ':3,'ALQ':4,'GLQ':5}\n",
        "x_train['BsmtFinType2']=x_train['BsmtFinType2'].map(BsmtFinType2_mapping)\n",
        "x_test['BsmtFinType2']=x_test['BsmtFinType2'].map(BsmtFinType2_mapping)"
      ],
      "metadata": {
        "colab": {
          "base_uri": "https://localhost:8080/"
        },
        "id": "OwoA1G__QQOy",
        "outputId": "cdffa459-9fed-40e2-9bc1-c026c4050a5e"
      },
      "execution_count": 131,
      "outputs": [
        {
          "output_type": "stream",
          "name": "stderr",
          "text": [
            "<ipython-input-131-dc63b1a543fb>:1: FutureWarning: A value is trying to be set on a copy of a DataFrame or Series through chained assignment using an inplace method.\n",
            "The behavior will change in pandas 3.0. This inplace method will never work because the intermediate object on which we are setting values always behaves as a copy.\n",
            "\n",
            "For example, when doing 'df[col].method(value, inplace=True)', try using 'df.method({col: value}, inplace=True)' or df[col] = df[col].method(value) instead, to perform the operation inplace on the original object.\n",
            "\n",
            "\n",
            "  x_train['BsmtFinType2'].fillna('Unf',inplace=True)\n",
            "<ipython-input-131-dc63b1a543fb>:2: FutureWarning: A value is trying to be set on a copy of a DataFrame or Series through chained assignment using an inplace method.\n",
            "The behavior will change in pandas 3.0. This inplace method will never work because the intermediate object on which we are setting values always behaves as a copy.\n",
            "\n",
            "For example, when doing 'df[col].method(value, inplace=True)', try using 'df.method({col: value}, inplace=True)' or df[col] = df[col].method(value) instead, to perform the operation inplace on the original object.\n",
            "\n",
            "\n",
            "  x_test['BsmtFinType2'].fillna('Unf',inplace=True)\n"
          ]
        }
      ]
    },
    {
      "cell_type": "code",
      "source": [
        "Heating_mapping={'GasA':0,'GasW':1,'Grav':2,'Wall':3,'OthW':4,'Floor':5}\n",
        "x_train['Heating']=x_train['Heating'].map(Heating_mapping)\n",
        "x_test['Heating']=x_test['Heating'].map(Heating_mapping)"
      ],
      "metadata": {
        "id": "76oVUjPpPhK0"
      },
      "execution_count": 132,
      "outputs": []
    },
    {
      "cell_type": "code",
      "source": [
        "HeatingQC_mapping={'Ex':0,'Gd':1,'TA':2,'Fa':3,'Po':4}\n",
        "x_train['HeatingQC']=x_train['HeatingQC'].map(HeatingQC_mapping)\n",
        "x_test['HeatingQC']=x_test['HeatingQC'].map(HeatingQC_mapping)"
      ],
      "metadata": {
        "id": "IDJS4shgQtJT"
      },
      "execution_count": 133,
      "outputs": []
    },
    {
      "cell_type": "code",
      "source": [
        "CentralAir_mapping={'Y':0,'N':1}\n",
        "x_train['CentralAir']=x_train['CentralAir'].map(CentralAir_mapping)\n",
        "x_test['CentralAir']=x_test['CentralAir'].map(CentralAir_mapping)"
      ],
      "metadata": {
        "id": "EN-4KvQrQxw7"
      },
      "execution_count": 134,
      "outputs": []
    },
    {
      "cell_type": "code",
      "source": [
        "Electrical_mapping={'SBrkr':0,'FuseF':1,'FuseA':2,'FuseP':3,'Mix':4}\n",
        "x_train['Electrical']=x_train['Electrical'].map(Electrical_mapping)\n",
        "x_test['Electrical']=x_test['Electrical'].map(Electrical_mapping)"
      ],
      "metadata": {
        "id": "r8fLC2Z7Q0f7"
      },
      "execution_count": 135,
      "outputs": []
    },
    {
      "cell_type": "code",
      "source": [
        "KitchenQual_mapping={'Gd':0,'TA':1,'Ex':2,'Fa':3}\n",
        "x_train['KitchenQual']=x_train['KitchenQual'].map(KitchenQual_mapping)\n",
        "x_test['KitchenQual']=x_test['KitchenQual'].map(KitchenQual_mapping)"
      ],
      "metadata": {
        "id": "_rvwoIQ5Q7AT"
      },
      "execution_count": 136,
      "outputs": []
    },
    {
      "cell_type": "code",
      "source": [
        "Funstional_mapping={'Typ':0,'Min1':1,'Maj1':2,'Min2':3,'Mod':4,'Maj2':5,'Sev':6}\n",
        "x_train['Functional']=x_train['Functional'].map(Funstional_mapping)\n",
        "x_test['Functional']=x_test['Functional'].map(Funstional_mapping)"
      ],
      "metadata": {
        "id": "LXiJLgPmRBFD"
      },
      "execution_count": 137,
      "outputs": []
    },
    {
      "cell_type": "code",
      "source": [
        "x_train['FireplaceQu'].fillna('Gd',inplace=True)\n",
        "x_test['FireplaceQu'].fillna('Gd',inplace=True)\n",
        "FireplaceQu_mapping={'Gd':0,'TA':1,'Fa':2,'Po':3,'Ex':4}\n",
        "x_train['FireplaceQu']=x_train['FireplaceQu'].map(FireplaceQu_mapping)\n",
        "x_test['FireplaceQu']=x_test['FireplaceQu'].map(FireplaceQu_mapping)"
      ],
      "metadata": {
        "colab": {
          "base_uri": "https://localhost:8080/"
        },
        "id": "hWiwaxTmRJzD",
        "outputId": "7b00bcf2-96a7-4f10-9ea0-473dfe533caf"
      },
      "execution_count": 138,
      "outputs": [
        {
          "output_type": "stream",
          "name": "stderr",
          "text": [
            "<ipython-input-138-234482987af6>:1: FutureWarning: A value is trying to be set on a copy of a DataFrame or Series through chained assignment using an inplace method.\n",
            "The behavior will change in pandas 3.0. This inplace method will never work because the intermediate object on which we are setting values always behaves as a copy.\n",
            "\n",
            "For example, when doing 'df[col].method(value, inplace=True)', try using 'df.method({col: value}, inplace=True)' or df[col] = df[col].method(value) instead, to perform the operation inplace on the original object.\n",
            "\n",
            "\n",
            "  x_train['FireplaceQu'].fillna('Gd',inplace=True)\n",
            "<ipython-input-138-234482987af6>:2: FutureWarning: A value is trying to be set on a copy of a DataFrame or Series through chained assignment using an inplace method.\n",
            "The behavior will change in pandas 3.0. This inplace method will never work because the intermediate object on which we are setting values always behaves as a copy.\n",
            "\n",
            "For example, when doing 'df[col].method(value, inplace=True)', try using 'df.method({col: value}, inplace=True)' or df[col] = df[col].method(value) instead, to perform the operation inplace on the original object.\n",
            "\n",
            "\n",
            "  x_test['FireplaceQu'].fillna('Gd',inplace=True)\n"
          ]
        }
      ]
    },
    {
      "cell_type": "code",
      "source": [
        "x_train['GarageType'].fillna('Attchd',inplace=True)\n",
        "x_test['GarageType'].fillna('Attchd',inplace=True)\n",
        "GarageType_mapping={'Attchd':0,'Detchd':1,'BuiltIn':2,'Basment':3,'CarPort':4,'2Types':5}\n",
        "x_train['GarageType']=x_train['GarageType'].map(GarageType_mapping)\n",
        "x_test['GarageType']=x_test['GarageType'].map(GarageType_mapping)"
      ],
      "metadata": {
        "colab": {
          "base_uri": "https://localhost:8080/"
        },
        "id": "X6N1tdynRN0q",
        "outputId": "f438c63b-0b60-4519-dd4e-f5488278b245"
      },
      "execution_count": 139,
      "outputs": [
        {
          "output_type": "stream",
          "name": "stderr",
          "text": [
            "<ipython-input-139-1f9aa264ac45>:1: FutureWarning: A value is trying to be set on a copy of a DataFrame or Series through chained assignment using an inplace method.\n",
            "The behavior will change in pandas 3.0. This inplace method will never work because the intermediate object on which we are setting values always behaves as a copy.\n",
            "\n",
            "For example, when doing 'df[col].method(value, inplace=True)', try using 'df.method({col: value}, inplace=True)' or df[col] = df[col].method(value) instead, to perform the operation inplace on the original object.\n",
            "\n",
            "\n",
            "  x_train['GarageType'].fillna('Attchd',inplace=True)\n",
            "<ipython-input-139-1f9aa264ac45>:2: FutureWarning: A value is trying to be set on a copy of a DataFrame or Series through chained assignment using an inplace method.\n",
            "The behavior will change in pandas 3.0. This inplace method will never work because the intermediate object on which we are setting values always behaves as a copy.\n",
            "\n",
            "For example, when doing 'df[col].method(value, inplace=True)', try using 'df.method({col: value}, inplace=True)' or df[col] = df[col].method(value) instead, to perform the operation inplace on the original object.\n",
            "\n",
            "\n",
            "  x_test['GarageType'].fillna('Attchd',inplace=True)\n"
          ]
        }
      ]
    },
    {
      "cell_type": "code",
      "source": [
        "x_train['GarageFinish'].fillna('Unf',inplace=True)\n",
        "x_test['GarageFinish'].fillna('Unf',inplace=True)\n",
        "GarageFinish_mapping={'Unf':0,'RFn':1,'Fin':2}\n",
        "x_train['GarageFinish']=x_train['GarageFinish'].map(GarageFinish_mapping)\n",
        "x_test['GarageFinish']=x_test['GarageFinish'].map(GarageFinish_mapping)"
      ],
      "metadata": {
        "colab": {
          "base_uri": "https://localhost:8080/"
        },
        "id": "CO2J8KcRRSeW",
        "outputId": "0abd16e1-f177-41f1-850a-cb44f6943364"
      },
      "execution_count": 140,
      "outputs": [
        {
          "output_type": "stream",
          "name": "stderr",
          "text": [
            "<ipython-input-140-eccc6766bde3>:1: FutureWarning: A value is trying to be set on a copy of a DataFrame or Series through chained assignment using an inplace method.\n",
            "The behavior will change in pandas 3.0. This inplace method will never work because the intermediate object on which we are setting values always behaves as a copy.\n",
            "\n",
            "For example, when doing 'df[col].method(value, inplace=True)', try using 'df.method({col: value}, inplace=True)' or df[col] = df[col].method(value) instead, to perform the operation inplace on the original object.\n",
            "\n",
            "\n",
            "  x_train['GarageFinish'].fillna('Unf',inplace=True)\n",
            "<ipython-input-140-eccc6766bde3>:2: FutureWarning: A value is trying to be set on a copy of a DataFrame or Series through chained assignment using an inplace method.\n",
            "The behavior will change in pandas 3.0. This inplace method will never work because the intermediate object on which we are setting values always behaves as a copy.\n",
            "\n",
            "For example, when doing 'df[col].method(value, inplace=True)', try using 'df.method({col: value}, inplace=True)' or df[col] = df[col].method(value) instead, to perform the operation inplace on the original object.\n",
            "\n",
            "\n",
            "  x_test['GarageFinish'].fillna('Unf',inplace=True)\n"
          ]
        }
      ]
    },
    {
      "cell_type": "code",
      "source": [
        "x_train['GarageQual'].fillna('TA',inplace=True)\n",
        "x_test['GarageQual'].fillna('TA',inplace=True)\n",
        "GarageQual_mapping={'TA':0,'Fa':1,'Gd':2,'Ex':3,'Po':4}\n",
        "x_train['GarageQual']=x_train['GarageQual'].map(GarageQual_mapping)\n",
        "x_test['GarageQual']=x_test['GarageQual'].map(GarageQual_mapping)"
      ],
      "metadata": {
        "colab": {
          "base_uri": "https://localhost:8080/"
        },
        "id": "4zaWS8e7RnWD",
        "outputId": "e66deb89-469c-4a0d-b3ff-6d7c9c06bc64"
      },
      "execution_count": 141,
      "outputs": [
        {
          "output_type": "stream",
          "name": "stderr",
          "text": [
            "<ipython-input-141-586d8d9678b0>:1: FutureWarning: A value is trying to be set on a copy of a DataFrame or Series through chained assignment using an inplace method.\n",
            "The behavior will change in pandas 3.0. This inplace method will never work because the intermediate object on which we are setting values always behaves as a copy.\n",
            "\n",
            "For example, when doing 'df[col].method(value, inplace=True)', try using 'df.method({col: value}, inplace=True)' or df[col] = df[col].method(value) instead, to perform the operation inplace on the original object.\n",
            "\n",
            "\n",
            "  x_train['GarageQual'].fillna('TA',inplace=True)\n",
            "<ipython-input-141-586d8d9678b0>:2: FutureWarning: A value is trying to be set on a copy of a DataFrame or Series through chained assignment using an inplace method.\n",
            "The behavior will change in pandas 3.0. This inplace method will never work because the intermediate object on which we are setting values always behaves as a copy.\n",
            "\n",
            "For example, when doing 'df[col].method(value, inplace=True)', try using 'df.method({col: value}, inplace=True)' or df[col] = df[col].method(value) instead, to perform the operation inplace on the original object.\n",
            "\n",
            "\n",
            "  x_test['GarageQual'].fillna('TA',inplace=True)\n"
          ]
        }
      ]
    },
    {
      "cell_type": "code",
      "source": [
        "x_train['GarageCond'].fillna('TA',inplace=True)\n",
        "x_test['GarageCond'].fillna('TA',inplace=True)\n",
        "GarageCond_mapping={'TA':0,'Fa':1,'Gd':2,'Po':3,'Ex':4}\n",
        "x_train['GarageCond']=x_train['GarageCond'].map(GarageCond_mapping)\n",
        "x_test['GarageCond']=x_test['GarageCond'].map(GarageCond_mapping)"
      ],
      "metadata": {
        "colab": {
          "base_uri": "https://localhost:8080/"
        },
        "id": "Fbv-FU-TRtPM",
        "outputId": "ea35aa32-ef19-4d90-a190-45c37bbb44a7"
      },
      "execution_count": 142,
      "outputs": [
        {
          "output_type": "stream",
          "name": "stderr",
          "text": [
            "<ipython-input-142-7580feb56d04>:1: FutureWarning: A value is trying to be set on a copy of a DataFrame or Series through chained assignment using an inplace method.\n",
            "The behavior will change in pandas 3.0. This inplace method will never work because the intermediate object on which we are setting values always behaves as a copy.\n",
            "\n",
            "For example, when doing 'df[col].method(value, inplace=True)', try using 'df.method({col: value}, inplace=True)' or df[col] = df[col].method(value) instead, to perform the operation inplace on the original object.\n",
            "\n",
            "\n",
            "  x_train['GarageCond'].fillna('TA',inplace=True)\n",
            "<ipython-input-142-7580feb56d04>:2: FutureWarning: A value is trying to be set on a copy of a DataFrame or Series through chained assignment using an inplace method.\n",
            "The behavior will change in pandas 3.0. This inplace method will never work because the intermediate object on which we are setting values always behaves as a copy.\n",
            "\n",
            "For example, when doing 'df[col].method(value, inplace=True)', try using 'df.method({col: value}, inplace=True)' or df[col] = df[col].method(value) instead, to perform the operation inplace on the original object.\n",
            "\n",
            "\n",
            "  x_test['GarageCond'].fillna('TA',inplace=True)\n"
          ]
        }
      ]
    },
    {
      "cell_type": "code",
      "source": [
        "PavedDrive_mapping={'Y':0,'N':1,'P':2}\n",
        "x_train['PavedDrive']=x_train['PavedDrive'].map(PavedDrive_mapping)\n",
        "x_test['PavedDrive']=x_test['PavedDrive'].map(PavedDrive_mapping)"
      ],
      "metadata": {
        "id": "Hd-bSRTvR2eR"
      },
      "execution_count": 143,
      "outputs": []
    },
    {
      "cell_type": "code",
      "source": [
        "SaleType_mapping={'WD':0,'New':1,'COD':2,'ConLD':3,'ConLI':4,'ConLw':5,'CWD':6,'Oth':7,'Con':8}\n",
        "x_train['SaleType']=x_train['SaleType'].map(SaleType_mapping)\n",
        "x_test['SaleType']=x_test['SaleType'].map(SaleType_mapping)"
      ],
      "metadata": {
        "id": "1DHTkLG1Trmf"
      },
      "execution_count": 144,
      "outputs": []
    },
    {
      "cell_type": "code",
      "source": [
        "SaleCondition_mapping={'Normal':0,'Abnorml':1,'Partial':2,'AdjLand':3,'Alloca':4,'Family':5}\n",
        "x_train['SaleCondition']=x_train['SaleCondition'].map(SaleCondition_mapping)\n",
        "x_test['SaleCondition']=x_test['SaleCondition'].map(SaleCondition_mapping)"
      ],
      "metadata": {
        "id": "J3v6boE-ULbp"
      },
      "execution_count": 145,
      "outputs": []
    },
    {
      "cell_type": "code",
      "source": [
        "model=DecisionTreeRegressor()\n",
        "model.fit(x_train,y_train)"
      ],
      "metadata": {
        "id": "SLsCcTaBHCa7",
        "colab": {
          "base_uri": "https://localhost:8080/",
          "height": 80
        },
        "outputId": "20e52e6d-463c-45ae-822b-54982488406a"
      },
      "execution_count": 149,
      "outputs": [
        {
          "output_type": "execute_result",
          "data": {
            "text/plain": [
              "DecisionTreeRegressor()"
            ],
            "text/html": [
              "<style>#sk-container-id-2 {\n",
              "  /* Definition of color scheme common for light and dark mode */\n",
              "  --sklearn-color-text: black;\n",
              "  --sklearn-color-line: gray;\n",
              "  /* Definition of color scheme for unfitted estimators */\n",
              "  --sklearn-color-unfitted-level-0: #fff5e6;\n",
              "  --sklearn-color-unfitted-level-1: #f6e4d2;\n",
              "  --sklearn-color-unfitted-level-2: #ffe0b3;\n",
              "  --sklearn-color-unfitted-level-3: chocolate;\n",
              "  /* Definition of color scheme for fitted estimators */\n",
              "  --sklearn-color-fitted-level-0: #f0f8ff;\n",
              "  --sklearn-color-fitted-level-1: #d4ebff;\n",
              "  --sklearn-color-fitted-level-2: #b3dbfd;\n",
              "  --sklearn-color-fitted-level-3: cornflowerblue;\n",
              "\n",
              "  /* Specific color for light theme */\n",
              "  --sklearn-color-text-on-default-background: var(--sg-text-color, var(--theme-code-foreground, var(--jp-content-font-color1, black)));\n",
              "  --sklearn-color-background: var(--sg-background-color, var(--theme-background, var(--jp-layout-color0, white)));\n",
              "  --sklearn-color-border-box: var(--sg-text-color, var(--theme-code-foreground, var(--jp-content-font-color1, black)));\n",
              "  --sklearn-color-icon: #696969;\n",
              "\n",
              "  @media (prefers-color-scheme: dark) {\n",
              "    /* Redefinition of color scheme for dark theme */\n",
              "    --sklearn-color-text-on-default-background: var(--sg-text-color, var(--theme-code-foreground, var(--jp-content-font-color1, white)));\n",
              "    --sklearn-color-background: var(--sg-background-color, var(--theme-background, var(--jp-layout-color0, #111)));\n",
              "    --sklearn-color-border-box: var(--sg-text-color, var(--theme-code-foreground, var(--jp-content-font-color1, white)));\n",
              "    --sklearn-color-icon: #878787;\n",
              "  }\n",
              "}\n",
              "\n",
              "#sk-container-id-2 {\n",
              "  color: var(--sklearn-color-text);\n",
              "}\n",
              "\n",
              "#sk-container-id-2 pre {\n",
              "  padding: 0;\n",
              "}\n",
              "\n",
              "#sk-container-id-2 input.sk-hidden--visually {\n",
              "  border: 0;\n",
              "  clip: rect(1px 1px 1px 1px);\n",
              "  clip: rect(1px, 1px, 1px, 1px);\n",
              "  height: 1px;\n",
              "  margin: -1px;\n",
              "  overflow: hidden;\n",
              "  padding: 0;\n",
              "  position: absolute;\n",
              "  width: 1px;\n",
              "}\n",
              "\n",
              "#sk-container-id-2 div.sk-dashed-wrapped {\n",
              "  border: 1px dashed var(--sklearn-color-line);\n",
              "  margin: 0 0.4em 0.5em 0.4em;\n",
              "  box-sizing: border-box;\n",
              "  padding-bottom: 0.4em;\n",
              "  background-color: var(--sklearn-color-background);\n",
              "}\n",
              "\n",
              "#sk-container-id-2 div.sk-container {\n",
              "  /* jupyter's `normalize.less` sets `[hidden] { display: none; }`\n",
              "     but bootstrap.min.css set `[hidden] { display: none !important; }`\n",
              "     so we also need the `!important` here to be able to override the\n",
              "     default hidden behavior on the sphinx rendered scikit-learn.org.\n",
              "     See: https://github.com/scikit-learn/scikit-learn/issues/21755 */\n",
              "  display: inline-block !important;\n",
              "  position: relative;\n",
              "}\n",
              "\n",
              "#sk-container-id-2 div.sk-text-repr-fallback {\n",
              "  display: none;\n",
              "}\n",
              "\n",
              "div.sk-parallel-item,\n",
              "div.sk-serial,\n",
              "div.sk-item {\n",
              "  /* draw centered vertical line to link estimators */\n",
              "  background-image: linear-gradient(var(--sklearn-color-text-on-default-background), var(--sklearn-color-text-on-default-background));\n",
              "  background-size: 2px 100%;\n",
              "  background-repeat: no-repeat;\n",
              "  background-position: center center;\n",
              "}\n",
              "\n",
              "/* Parallel-specific style estimator block */\n",
              "\n",
              "#sk-container-id-2 div.sk-parallel-item::after {\n",
              "  content: \"\";\n",
              "  width: 100%;\n",
              "  border-bottom: 2px solid var(--sklearn-color-text-on-default-background);\n",
              "  flex-grow: 1;\n",
              "}\n",
              "\n",
              "#sk-container-id-2 div.sk-parallel {\n",
              "  display: flex;\n",
              "  align-items: stretch;\n",
              "  justify-content: center;\n",
              "  background-color: var(--sklearn-color-background);\n",
              "  position: relative;\n",
              "}\n",
              "\n",
              "#sk-container-id-2 div.sk-parallel-item {\n",
              "  display: flex;\n",
              "  flex-direction: column;\n",
              "}\n",
              "\n",
              "#sk-container-id-2 div.sk-parallel-item:first-child::after {\n",
              "  align-self: flex-end;\n",
              "  width: 50%;\n",
              "}\n",
              "\n",
              "#sk-container-id-2 div.sk-parallel-item:last-child::after {\n",
              "  align-self: flex-start;\n",
              "  width: 50%;\n",
              "}\n",
              "\n",
              "#sk-container-id-2 div.sk-parallel-item:only-child::after {\n",
              "  width: 0;\n",
              "}\n",
              "\n",
              "/* Serial-specific style estimator block */\n",
              "\n",
              "#sk-container-id-2 div.sk-serial {\n",
              "  display: flex;\n",
              "  flex-direction: column;\n",
              "  align-items: center;\n",
              "  background-color: var(--sklearn-color-background);\n",
              "  padding-right: 1em;\n",
              "  padding-left: 1em;\n",
              "}\n",
              "\n",
              "\n",
              "/* Toggleable style: style used for estimator/Pipeline/ColumnTransformer box that is\n",
              "clickable and can be expanded/collapsed.\n",
              "- Pipeline and ColumnTransformer use this feature and define the default style\n",
              "- Estimators will overwrite some part of the style using the `sk-estimator` class\n",
              "*/\n",
              "\n",
              "/* Pipeline and ColumnTransformer style (default) */\n",
              "\n",
              "#sk-container-id-2 div.sk-toggleable {\n",
              "  /* Default theme specific background. It is overwritten whether we have a\n",
              "  specific estimator or a Pipeline/ColumnTransformer */\n",
              "  background-color: var(--sklearn-color-background);\n",
              "}\n",
              "\n",
              "/* Toggleable label */\n",
              "#sk-container-id-2 label.sk-toggleable__label {\n",
              "  cursor: pointer;\n",
              "  display: block;\n",
              "  width: 100%;\n",
              "  margin-bottom: 0;\n",
              "  padding: 0.5em;\n",
              "  box-sizing: border-box;\n",
              "  text-align: center;\n",
              "}\n",
              "\n",
              "#sk-container-id-2 label.sk-toggleable__label-arrow:before {\n",
              "  /* Arrow on the left of the label */\n",
              "  content: \"▸\";\n",
              "  float: left;\n",
              "  margin-right: 0.25em;\n",
              "  color: var(--sklearn-color-icon);\n",
              "}\n",
              "\n",
              "#sk-container-id-2 label.sk-toggleable__label-arrow:hover:before {\n",
              "  color: var(--sklearn-color-text);\n",
              "}\n",
              "\n",
              "/* Toggleable content - dropdown */\n",
              "\n",
              "#sk-container-id-2 div.sk-toggleable__content {\n",
              "  max-height: 0;\n",
              "  max-width: 0;\n",
              "  overflow: hidden;\n",
              "  text-align: left;\n",
              "  /* unfitted */\n",
              "  background-color: var(--sklearn-color-unfitted-level-0);\n",
              "}\n",
              "\n",
              "#sk-container-id-2 div.sk-toggleable__content.fitted {\n",
              "  /* fitted */\n",
              "  background-color: var(--sklearn-color-fitted-level-0);\n",
              "}\n",
              "\n",
              "#sk-container-id-2 div.sk-toggleable__content pre {\n",
              "  margin: 0.2em;\n",
              "  border-radius: 0.25em;\n",
              "  color: var(--sklearn-color-text);\n",
              "  /* unfitted */\n",
              "  background-color: var(--sklearn-color-unfitted-level-0);\n",
              "}\n",
              "\n",
              "#sk-container-id-2 div.sk-toggleable__content.fitted pre {\n",
              "  /* unfitted */\n",
              "  background-color: var(--sklearn-color-fitted-level-0);\n",
              "}\n",
              "\n",
              "#sk-container-id-2 input.sk-toggleable__control:checked~div.sk-toggleable__content {\n",
              "  /* Expand drop-down */\n",
              "  max-height: 200px;\n",
              "  max-width: 100%;\n",
              "  overflow: auto;\n",
              "}\n",
              "\n",
              "#sk-container-id-2 input.sk-toggleable__control:checked~label.sk-toggleable__label-arrow:before {\n",
              "  content: \"▾\";\n",
              "}\n",
              "\n",
              "/* Pipeline/ColumnTransformer-specific style */\n",
              "\n",
              "#sk-container-id-2 div.sk-label input.sk-toggleable__control:checked~label.sk-toggleable__label {\n",
              "  color: var(--sklearn-color-text);\n",
              "  background-color: var(--sklearn-color-unfitted-level-2);\n",
              "}\n",
              "\n",
              "#sk-container-id-2 div.sk-label.fitted input.sk-toggleable__control:checked~label.sk-toggleable__label {\n",
              "  background-color: var(--sklearn-color-fitted-level-2);\n",
              "}\n",
              "\n",
              "/* Estimator-specific style */\n",
              "\n",
              "/* Colorize estimator box */\n",
              "#sk-container-id-2 div.sk-estimator input.sk-toggleable__control:checked~label.sk-toggleable__label {\n",
              "  /* unfitted */\n",
              "  background-color: var(--sklearn-color-unfitted-level-2);\n",
              "}\n",
              "\n",
              "#sk-container-id-2 div.sk-estimator.fitted input.sk-toggleable__control:checked~label.sk-toggleable__label {\n",
              "  /* fitted */\n",
              "  background-color: var(--sklearn-color-fitted-level-2);\n",
              "}\n",
              "\n",
              "#sk-container-id-2 div.sk-label label.sk-toggleable__label,\n",
              "#sk-container-id-2 div.sk-label label {\n",
              "  /* The background is the default theme color */\n",
              "  color: var(--sklearn-color-text-on-default-background);\n",
              "}\n",
              "\n",
              "/* On hover, darken the color of the background */\n",
              "#sk-container-id-2 div.sk-label:hover label.sk-toggleable__label {\n",
              "  color: var(--sklearn-color-text);\n",
              "  background-color: var(--sklearn-color-unfitted-level-2);\n",
              "}\n",
              "\n",
              "/* Label box, darken color on hover, fitted */\n",
              "#sk-container-id-2 div.sk-label.fitted:hover label.sk-toggleable__label.fitted {\n",
              "  color: var(--sklearn-color-text);\n",
              "  background-color: var(--sklearn-color-fitted-level-2);\n",
              "}\n",
              "\n",
              "/* Estimator label */\n",
              "\n",
              "#sk-container-id-2 div.sk-label label {\n",
              "  font-family: monospace;\n",
              "  font-weight: bold;\n",
              "  display: inline-block;\n",
              "  line-height: 1.2em;\n",
              "}\n",
              "\n",
              "#sk-container-id-2 div.sk-label-container {\n",
              "  text-align: center;\n",
              "}\n",
              "\n",
              "/* Estimator-specific */\n",
              "#sk-container-id-2 div.sk-estimator {\n",
              "  font-family: monospace;\n",
              "  border: 1px dotted var(--sklearn-color-border-box);\n",
              "  border-radius: 0.25em;\n",
              "  box-sizing: border-box;\n",
              "  margin-bottom: 0.5em;\n",
              "  /* unfitted */\n",
              "  background-color: var(--sklearn-color-unfitted-level-0);\n",
              "}\n",
              "\n",
              "#sk-container-id-2 div.sk-estimator.fitted {\n",
              "  /* fitted */\n",
              "  background-color: var(--sklearn-color-fitted-level-0);\n",
              "}\n",
              "\n",
              "/* on hover */\n",
              "#sk-container-id-2 div.sk-estimator:hover {\n",
              "  /* unfitted */\n",
              "  background-color: var(--sklearn-color-unfitted-level-2);\n",
              "}\n",
              "\n",
              "#sk-container-id-2 div.sk-estimator.fitted:hover {\n",
              "  /* fitted */\n",
              "  background-color: var(--sklearn-color-fitted-level-2);\n",
              "}\n",
              "\n",
              "/* Specification for estimator info (e.g. \"i\" and \"?\") */\n",
              "\n",
              "/* Common style for \"i\" and \"?\" */\n",
              "\n",
              ".sk-estimator-doc-link,\n",
              "a:link.sk-estimator-doc-link,\n",
              "a:visited.sk-estimator-doc-link {\n",
              "  float: right;\n",
              "  font-size: smaller;\n",
              "  line-height: 1em;\n",
              "  font-family: monospace;\n",
              "  background-color: var(--sklearn-color-background);\n",
              "  border-radius: 1em;\n",
              "  height: 1em;\n",
              "  width: 1em;\n",
              "  text-decoration: none !important;\n",
              "  margin-left: 1ex;\n",
              "  /* unfitted */\n",
              "  border: var(--sklearn-color-unfitted-level-1) 1pt solid;\n",
              "  color: var(--sklearn-color-unfitted-level-1);\n",
              "}\n",
              "\n",
              ".sk-estimator-doc-link.fitted,\n",
              "a:link.sk-estimator-doc-link.fitted,\n",
              "a:visited.sk-estimator-doc-link.fitted {\n",
              "  /* fitted */\n",
              "  border: var(--sklearn-color-fitted-level-1) 1pt solid;\n",
              "  color: var(--sklearn-color-fitted-level-1);\n",
              "}\n",
              "\n",
              "/* On hover */\n",
              "div.sk-estimator:hover .sk-estimator-doc-link:hover,\n",
              ".sk-estimator-doc-link:hover,\n",
              "div.sk-label-container:hover .sk-estimator-doc-link:hover,\n",
              ".sk-estimator-doc-link:hover {\n",
              "  /* unfitted */\n",
              "  background-color: var(--sklearn-color-unfitted-level-3);\n",
              "  color: var(--sklearn-color-background);\n",
              "  text-decoration: none;\n",
              "}\n",
              "\n",
              "div.sk-estimator.fitted:hover .sk-estimator-doc-link.fitted:hover,\n",
              ".sk-estimator-doc-link.fitted:hover,\n",
              "div.sk-label-container:hover .sk-estimator-doc-link.fitted:hover,\n",
              ".sk-estimator-doc-link.fitted:hover {\n",
              "  /* fitted */\n",
              "  background-color: var(--sklearn-color-fitted-level-3);\n",
              "  color: var(--sklearn-color-background);\n",
              "  text-decoration: none;\n",
              "}\n",
              "\n",
              "/* Span, style for the box shown on hovering the info icon */\n",
              ".sk-estimator-doc-link span {\n",
              "  display: none;\n",
              "  z-index: 9999;\n",
              "  position: relative;\n",
              "  font-weight: normal;\n",
              "  right: .2ex;\n",
              "  padding: .5ex;\n",
              "  margin: .5ex;\n",
              "  width: min-content;\n",
              "  min-width: 20ex;\n",
              "  max-width: 50ex;\n",
              "  color: var(--sklearn-color-text);\n",
              "  box-shadow: 2pt 2pt 4pt #999;\n",
              "  /* unfitted */\n",
              "  background: var(--sklearn-color-unfitted-level-0);\n",
              "  border: .5pt solid var(--sklearn-color-unfitted-level-3);\n",
              "}\n",
              "\n",
              ".sk-estimator-doc-link.fitted span {\n",
              "  /* fitted */\n",
              "  background: var(--sklearn-color-fitted-level-0);\n",
              "  border: var(--sklearn-color-fitted-level-3);\n",
              "}\n",
              "\n",
              ".sk-estimator-doc-link:hover span {\n",
              "  display: block;\n",
              "}\n",
              "\n",
              "/* \"?\"-specific style due to the `<a>` HTML tag */\n",
              "\n",
              "#sk-container-id-2 a.estimator_doc_link {\n",
              "  float: right;\n",
              "  font-size: 1rem;\n",
              "  line-height: 1em;\n",
              "  font-family: monospace;\n",
              "  background-color: var(--sklearn-color-background);\n",
              "  border-radius: 1rem;\n",
              "  height: 1rem;\n",
              "  width: 1rem;\n",
              "  text-decoration: none;\n",
              "  /* unfitted */\n",
              "  color: var(--sklearn-color-unfitted-level-1);\n",
              "  border: var(--sklearn-color-unfitted-level-1) 1pt solid;\n",
              "}\n",
              "\n",
              "#sk-container-id-2 a.estimator_doc_link.fitted {\n",
              "  /* fitted */\n",
              "  border: var(--sklearn-color-fitted-level-1) 1pt solid;\n",
              "  color: var(--sklearn-color-fitted-level-1);\n",
              "}\n",
              "\n",
              "/* On hover */\n",
              "#sk-container-id-2 a.estimator_doc_link:hover {\n",
              "  /* unfitted */\n",
              "  background-color: var(--sklearn-color-unfitted-level-3);\n",
              "  color: var(--sklearn-color-background);\n",
              "  text-decoration: none;\n",
              "}\n",
              "\n",
              "#sk-container-id-2 a.estimator_doc_link.fitted:hover {\n",
              "  /* fitted */\n",
              "  background-color: var(--sklearn-color-fitted-level-3);\n",
              "}\n",
              "</style><div id=\"sk-container-id-2\" class=\"sk-top-container\"><div class=\"sk-text-repr-fallback\"><pre>DecisionTreeRegressor()</pre><b>In a Jupyter environment, please rerun this cell to show the HTML representation or trust the notebook. <br />On GitHub, the HTML representation is unable to render, please try loading this page with nbviewer.org.</b></div><div class=\"sk-container\" hidden><div class=\"sk-item\"><div class=\"sk-estimator fitted sk-toggleable\"><input class=\"sk-toggleable__control sk-hidden--visually\" id=\"sk-estimator-id-2\" type=\"checkbox\" checked><label for=\"sk-estimator-id-2\" class=\"sk-toggleable__label fitted sk-toggleable__label-arrow fitted\">&nbsp;&nbsp;DecisionTreeRegressor<a class=\"sk-estimator-doc-link fitted\" rel=\"noreferrer\" target=\"_blank\" href=\"https://scikit-learn.org/1.5/modules/generated/sklearn.tree.DecisionTreeRegressor.html\">?<span>Documentation for DecisionTreeRegressor</span></a><span class=\"sk-estimator-doc-link fitted\">i<span>Fitted</span></span></label><div class=\"sk-toggleable__content fitted\"><pre>DecisionTreeRegressor()</pre></div> </div></div></div></div>"
            ]
          },
          "metadata": {},
          "execution_count": 149
        }
      ]
    },
    {
      "cell_type": "code",
      "source": [
        "model.score(x_train,y_train)"
      ],
      "metadata": {
        "colab": {
          "base_uri": "https://localhost:8080/"
        },
        "id": "674qWySuWMPX",
        "outputId": "c9c18cae-4e43-458f-ab32-babc2af1cd9a"
      },
      "execution_count": 151,
      "outputs": [
        {
          "output_type": "execute_result",
          "data": {
            "text/plain": [
              "0.9996422552867534"
            ]
          },
          "metadata": {},
          "execution_count": 151
        }
      ]
    }
  ]
}